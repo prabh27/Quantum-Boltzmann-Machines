{
 "cells": [
  {
   "cell_type": "markdown",
   "metadata": {},
   "source": [
    "# Welcome to the qRBM demo!\n",
    "In this demo we will go over a simple use case for an RBM that is trained semi-classically, semi-quantumly. To get started, we import our dependencies, we will need pyquil, grove, numpy and scipy. "
   ]
  },
  {
   "cell_type": "code",
   "execution_count": 32,
   "metadata": {
    "scrolled": true
   },
   "outputs": [],
   "source": [
    "import pyquil.api as api\n",
    "from pyquil import Program\n",
    "from qRBM_final import qRBM\n",
    "from pyquil.gates import *\n",
    "from random import *\n",
    "import numpy as np\n",
    "from sklearn import svm\n",
    "from sklearn.neural_network import BernoulliRBM\n",
    "from matplotlib import pyplot as plt"
   ]
  },
  {
   "cell_type": "markdown",
   "metadata": {},
   "source": [
    "## Creating the underlying distribution\n",
    "We flip an unbiased coin to generate a sequence of random bits, this will be the underlying hidden distribution of our data."
   ]
  },
  {
   "cell_type": "code",
   "execution_count": 33,
   "metadata": {},
   "outputs": [
    {
     "data": {
      "text/plain": [
       "array([1, 1, 0, 1, 0, 0, 0, 1, 1, 1, 1, 1, 0, 0, 1, 0, 0, 0, 0, 0])"
      ]
     },
     "execution_count": 33,
     "metadata": {},
     "output_type": "execute_result"
    }
   ],
   "source": [
    "#flip a coin\n",
    "np.random.seed(1234)\n",
    "random_coin = np.random.choice([0,1], size=20, replace=True)\n",
    "random_coin"
   ]
  },
  {
   "cell_type": "code",
   "execution_count": 34,
   "metadata": {},
   "outputs": [],
   "source": [
    "qvm = api.QVMConnection()\n",
    "p = Program()\n",
    "p.inst(H(0), CNOT(0, 1))\n",
    "r = qRBM(qvm, num_visible=4, num_hidden=1, n_quantum_measurements=None, verbose=True)"
   ]
  },
  {
   "cell_type": "markdown",
   "metadata": {},
   "source": [
    "## Generating encoded sequences\n",
    "Code below takes our sequence of random bits and encodes each 1 bit result into a 4 bit representation. This effectively creates artificial data with a 1 bit \"needle\" (hidden code subspace) in the \"haystack\" (4-bit data), which our RBM will have to decode. "
   ]
  },
  {
   "cell_type": "code",
   "execution_count": 52,
   "metadata": {},
   "outputs": [
    {
     "data": {
      "text/plain": [
       "array([[-1, -1,  1,  1],\n",
       "       [-1, -1,  1,  1],\n",
       "       [ 1,  1, -1, -1],\n",
       "       [-1, -1,  1,  1],\n",
       "       [ 1,  1, -1, -1],\n",
       "       [ 1,  1, -1, -1],\n",
       "       [ 1,  1, -1, -1],\n",
       "       [-1, -1,  1,  1],\n",
       "       [-1, -1,  1,  1],\n",
       "       [-1, -1,  1,  1],\n",
       "       [-1, -1,  1,  1],\n",
       "       [-1, -1,  1,  1],\n",
       "       [ 1,  1, -1, -1],\n",
       "       [ 1,  1, -1, -1],\n",
       "       [-1, -1,  1,  1],\n",
       "       [ 1,  1, -1, -1],\n",
       "       [ 1,  1, -1, -1],\n",
       "       [ 1,  1, -1, -1],\n",
       "       [ 1,  1, -1, -1],\n",
       "       [ 1,  1, -1, -1]])"
      ]
     },
     "execution_count": 52,
     "metadata": {},
     "output_type": "execute_result"
    }
   ],
   "source": [
    "#Encode this coin flip in to an artifically high dimensional dataset\n",
    "artificial_data = []\n",
    "for flip in random_coin:\n",
    "    if flip == 1:\n",
    "        artificial_data.append([-1,-1,1,1]) #logical 1\n",
    "    else:\n",
    "        artificial_data.append([1,1,-1,-1]) #logical 0\n",
    "\n",
    "#We know have an artificially high dimensional dataset that still only has the 1 bit coin flip dictating\n",
    "#the underlying distribution\n",
    "artificial_data = np.asarray(artificial_data)\n",
    "artificial_data"
   ]
  },
  {
   "cell_type": "markdown",
   "metadata": {},
   "source": [
    "## Creating and training our qRBM"
   ]
  },
  {
   "cell_type": "code",
   "execution_count": 53,
   "metadata": {},
   "outputs": [],
   "source": [
    "#We will now setup our RBM to try and understand the artifical data's underlying distribution\n",
    "\n",
    "#we will use \"analytical\" measurement to save time on simulation.\n",
    "qr = qRBM(qvm, num_visible=4, num_hidden=1,n_quantum_measurements=None)"
   ]
  },
  {
   "cell_type": "code",
   "execution_count": 54,
   "metadata": {},
   "outputs": [],
   "source": [
    "%%capture\n",
    "#let it train...\n",
    "qr.train(artificial_data,n_epochs=8)"
   ]
  },
  {
   "cell_type": "markdown",
   "metadata": {},
   "source": [
    "## Comparing RBM-decoded data to originally encoded data\n",
    "In the following code snippet we examine the hidden unit activation probabilities and how they correspond to the initial information from the coin flip. As we can see the probability of the hiddens corresponds very well with the flip."
   ]
  },
  {
   "cell_type": "code",
   "execution_count": 55,
   "metadata": {},
   "outputs": [
    {
     "name": "stdout",
     "output_type": "stream",
     "text": [
      "RBM Pr. | Original Coin Value\n",
      "--------------------\n",
      " 0.576  |  1.000\n",
      " 0.576  |  1.000\n",
      " 0.424  |  0.000\n",
      " 0.576  |  1.000\n",
      " 0.424  |  0.000\n",
      " 0.424  |  0.000\n",
      " 0.424  |  0.000\n",
      " 0.576  |  1.000\n",
      " 0.576  |  1.000\n",
      " 0.576  |  1.000\n",
      " 0.576  |  1.000\n",
      " 0.576  |  1.000\n",
      " 0.424  |  0.000\n",
      " 0.424  |  0.000\n",
      " 0.576  |  1.000\n",
      " 0.424  |  0.000\n",
      " 0.424  |  0.000\n",
      " 0.424  |  0.000\n",
      " 0.424  |  0.000\n",
      " 0.424  |  0.000\n"
     ]
    }
   ],
   "source": [
    "#Now that the training is done (~5 mins when doing analytical expectation)\n",
    "# we can transform our data to the hidden layer\n",
    "transformed = qr.transform(artificial_data)\n",
    "\n",
    "comparison = np.stack((transformed[:,0], random_coin))\n",
    "\n",
    "#compare our rbm probabilities with the coin flips.\n",
    "print ('RBM Pr. | Original Coin Value')\n",
    "print ('-'*20)\n",
    "for i in range(len(transformed)):\n",
    "    print ('{: 0.3f}'.format(float(comparison[:,i][0])), ' |', '{: 0.3f}'.format(comparison[:,i][1]))\n"
   ]
  },
  {
   "cell_type": "markdown",
   "metadata": {},
   "source": [
    "### Use a discriminative model with the hidden states of QRBM to evaluate the QRBM"
   ]
  },
  {
   "cell_type": "code",
   "execution_count": 56,
   "metadata": {},
   "outputs": [],
   "source": [
    "def quantum_rbm_eval(num_epochs, hidden_model_list, hidden_state):\n",
    "    y = random_coin\n",
    "    scores = []\n",
    "    for epoch in range(num_epochs):\n",
    "        X = hidden_model_list[hidden_state].pred_list[epoch]\n",
    "        clf = svm.SVC()\n",
    "        clf.fit(X, y)\n",
    "        scores.append([clf.score(X,y)])\n",
    "    return scores"
   ]
  },
  {
   "cell_type": "code",
   "execution_count": 57,
   "metadata": {},
   "outputs": [
    {
     "data": {
      "text/plain": [
       "[array([[0.56332904],\n",
       "        [0.56332904],\n",
       "        [0.43667096],\n",
       "        [0.56332904],\n",
       "        [0.43667096],\n",
       "        [0.43667096],\n",
       "        [0.43667096],\n",
       "        [0.56332904],\n",
       "        [0.56332904],\n",
       "        [0.56332904],\n",
       "        [0.56332904],\n",
       "        [0.56332904],\n",
       "        [0.43667096],\n",
       "        [0.43667096],\n",
       "        [0.56332904],\n",
       "        [0.43667096],\n",
       "        [0.43667096],\n",
       "        [0.43667096],\n",
       "        [0.43667096],\n",
       "        [0.43667096]]),\n",
       " array([[0.56464011],\n",
       "        [0.56464011],\n",
       "        [0.43535989],\n",
       "        [0.56464011],\n",
       "        [0.43535989],\n",
       "        [0.43535989],\n",
       "        [0.43535989],\n",
       "        [0.56464011],\n",
       "        [0.56464011],\n",
       "        [0.56464011],\n",
       "        [0.56464011],\n",
       "        [0.56464011],\n",
       "        [0.43535989],\n",
       "        [0.43535989],\n",
       "        [0.56464011],\n",
       "        [0.43535989],\n",
       "        [0.43535989],\n",
       "        [0.43535989],\n",
       "        [0.43535989],\n",
       "        [0.43535989]]),\n",
       " array([[0.56607911],\n",
       "        [0.56607911],\n",
       "        [0.43392089],\n",
       "        [0.56607911],\n",
       "        [0.43392089],\n",
       "        [0.43392089],\n",
       "        [0.43392089],\n",
       "        [0.56607911],\n",
       "        [0.56607911],\n",
       "        [0.56607911],\n",
       "        [0.56607911],\n",
       "        [0.56607911],\n",
       "        [0.43392089],\n",
       "        [0.43392089],\n",
       "        [0.56607911],\n",
       "        [0.43392089],\n",
       "        [0.43392089],\n",
       "        [0.43392089],\n",
       "        [0.43392089],\n",
       "        [0.43392089]]),\n",
       " array([[0.56765826],\n",
       "        [0.56765826],\n",
       "        [0.43234174],\n",
       "        [0.56765826],\n",
       "        [0.43234174],\n",
       "        [0.43234174],\n",
       "        [0.43234174],\n",
       "        [0.56765826],\n",
       "        [0.56765826],\n",
       "        [0.56765826],\n",
       "        [0.56765826],\n",
       "        [0.56765826],\n",
       "        [0.43234174],\n",
       "        [0.43234174],\n",
       "        [0.56765826],\n",
       "        [0.43234174],\n",
       "        [0.43234174],\n",
       "        [0.43234174],\n",
       "        [0.43234174],\n",
       "        [0.43234174]]),\n",
       " array([[0.56939091],\n",
       "        [0.56939091],\n",
       "        [0.43060909],\n",
       "        [0.56939091],\n",
       "        [0.43060909],\n",
       "        [0.43060909],\n",
       "        [0.43060909],\n",
       "        [0.56939091],\n",
       "        [0.56939091],\n",
       "        [0.56939091],\n",
       "        [0.56939091],\n",
       "        [0.56939091],\n",
       "        [0.43060909],\n",
       "        [0.43060909],\n",
       "        [0.56939091],\n",
       "        [0.43060909],\n",
       "        [0.43060909],\n",
       "        [0.43060909],\n",
       "        [0.43060909],\n",
       "        [0.43060909]]),\n",
       " array([[0.57129163],\n",
       "        [0.57129163],\n",
       "        [0.42870837],\n",
       "        [0.57129163],\n",
       "        [0.42870837],\n",
       "        [0.42870837],\n",
       "        [0.42870837],\n",
       "        [0.57129163],\n",
       "        [0.57129163],\n",
       "        [0.57129163],\n",
       "        [0.57129163],\n",
       "        [0.57129163],\n",
       "        [0.42870837],\n",
       "        [0.42870837],\n",
       "        [0.57129163],\n",
       "        [0.42870837],\n",
       "        [0.42870837],\n",
       "        [0.42870837],\n",
       "        [0.42870837],\n",
       "        [0.42870837]]),\n",
       " array([[0.57337622],\n",
       "        [0.57337622],\n",
       "        [0.42662378],\n",
       "        [0.57337622],\n",
       "        [0.42662378],\n",
       "        [0.42662378],\n",
       "        [0.42662378],\n",
       "        [0.57337622],\n",
       "        [0.57337622],\n",
       "        [0.57337622],\n",
       "        [0.57337622],\n",
       "        [0.57337622],\n",
       "        [0.42662378],\n",
       "        [0.42662378],\n",
       "        [0.57337622],\n",
       "        [0.42662378],\n",
       "        [0.42662378],\n",
       "        [0.42662378],\n",
       "        [0.42662378],\n",
       "        [0.42662378]]),\n",
       " array([[0.57566192],\n",
       "        [0.57566192],\n",
       "        [0.42433808],\n",
       "        [0.57566192],\n",
       "        [0.42433808],\n",
       "        [0.42433808],\n",
       "        [0.42433808],\n",
       "        [0.57566192],\n",
       "        [0.57566192],\n",
       "        [0.57566192],\n",
       "        [0.57566192],\n",
       "        [0.57566192],\n",
       "        [0.42433808],\n",
       "        [0.42433808],\n",
       "        [0.57566192],\n",
       "        [0.42433808],\n",
       "        [0.42433808],\n",
       "        [0.42433808],\n",
       "        [0.42433808],\n",
       "        [0.42433808]])]"
      ]
     },
     "execution_count": 57,
     "metadata": {},
     "output_type": "execute_result"
    }
   ],
   "source": [
    "qr.pred_list"
   ]
  },
  {
   "cell_type": "code",
   "execution_count": 58,
   "metadata": {},
   "outputs": [
    {
     "ename": "IndexError",
     "evalue": "list index out of range",
     "output_type": "error",
     "traceback": [
      "\u001b[0;31m---------------------------------------------------------------------------\u001b[0m",
      "\u001b[0;31mIndexError\u001b[0m                                Traceback (most recent call last)",
      "\u001b[0;32m<ipython-input-58-cbf89f6af8ca>\u001b[0m in \u001b[0;36m<module>\u001b[0;34m\u001b[0m\n\u001b[0;32m----> 1\u001b[0;31m \u001b[0mscores\u001b[0m \u001b[0;34m=\u001b[0m \u001b[0mquantum_rbm_eval\u001b[0m\u001b[0;34m(\u001b[0m\u001b[0mnum_epochs\u001b[0m\u001b[0;34m=\u001b[0m\u001b[0;36m20\u001b[0m\u001b[0;34m,\u001b[0m \u001b[0mhidden_model_list\u001b[0m\u001b[0;34m=\u001b[0m\u001b[0;34m[\u001b[0m\u001b[0mqr\u001b[0m\u001b[0;34m]\u001b[0m\u001b[0;34m,\u001b[0m \u001b[0mhidden_state\u001b[0m\u001b[0;34m=\u001b[0m\u001b[0;36m0\u001b[0m\u001b[0;34m)\u001b[0m\u001b[0;34m\u001b[0m\u001b[0;34m\u001b[0m\u001b[0m\n\u001b[0m",
      "\u001b[0;32m<ipython-input-56-09e30c9307b0>\u001b[0m in \u001b[0;36mquantum_rbm_eval\u001b[0;34m(num_epochs, hidden_model_list, hidden_state)\u001b[0m\n\u001b[1;32m      3\u001b[0m     \u001b[0mscores\u001b[0m \u001b[0;34m=\u001b[0m \u001b[0;34m[\u001b[0m\u001b[0;34m]\u001b[0m\u001b[0;34m\u001b[0m\u001b[0;34m\u001b[0m\u001b[0m\n\u001b[1;32m      4\u001b[0m     \u001b[0;32mfor\u001b[0m \u001b[0mepoch\u001b[0m \u001b[0;32min\u001b[0m \u001b[0mrange\u001b[0m\u001b[0;34m(\u001b[0m\u001b[0mnum_epochs\u001b[0m\u001b[0;34m)\u001b[0m\u001b[0;34m:\u001b[0m\u001b[0;34m\u001b[0m\u001b[0;34m\u001b[0m\u001b[0m\n\u001b[0;32m----> 5\u001b[0;31m         \u001b[0mX\u001b[0m \u001b[0;34m=\u001b[0m \u001b[0mhidden_model_list\u001b[0m\u001b[0;34m[\u001b[0m\u001b[0mhidden_state\u001b[0m\u001b[0;34m]\u001b[0m\u001b[0;34m.\u001b[0m\u001b[0mpred_list\u001b[0m\u001b[0;34m[\u001b[0m\u001b[0mepoch\u001b[0m\u001b[0;34m]\u001b[0m\u001b[0;34m\u001b[0m\u001b[0;34m\u001b[0m\u001b[0m\n\u001b[0m\u001b[1;32m      6\u001b[0m         \u001b[0mclf\u001b[0m \u001b[0;34m=\u001b[0m \u001b[0msvm\u001b[0m\u001b[0;34m.\u001b[0m\u001b[0mSVC\u001b[0m\u001b[0;34m(\u001b[0m\u001b[0;34m)\u001b[0m\u001b[0;34m\u001b[0m\u001b[0;34m\u001b[0m\u001b[0m\n\u001b[1;32m      7\u001b[0m         \u001b[0mclf\u001b[0m\u001b[0;34m.\u001b[0m\u001b[0mfit\u001b[0m\u001b[0;34m(\u001b[0m\u001b[0mX\u001b[0m\u001b[0;34m,\u001b[0m \u001b[0my\u001b[0m\u001b[0;34m)\u001b[0m\u001b[0;34m\u001b[0m\u001b[0;34m\u001b[0m\u001b[0m\n",
      "\u001b[0;31mIndexError\u001b[0m: list index out of range"
     ]
    }
   ],
   "source": [
    "scores = quantum_rbm_eval(num_epochs=20, hidden_model_list=[qr], hidden_state=0)"
   ]
  },
  {
   "cell_type": "code",
   "execution_count": 24,
   "metadata": {},
   "outputs": [],
   "source": [
    "def plot_score(score_list, hidden_state):\n",
    "    plt.plot(score_list, marker='o', label=\"Hidden State: \" + str(hidden_state))\n",
    "    # plt.ylim(0, 1)\n",
    "    plt.xlabel('# Epochs')\n",
    "    plt.ylabel('Accuracy')\n",
    "    plt.title('Hidden States: Accuracy vs Epochs') \n",
    "    plt.legend()\n",
    "    plt.ylim(0, 1.1)\n",
    "#     plt.xlim(0, 20)"
   ]
  },
  {
   "cell_type": "code",
   "execution_count": 25,
   "metadata": {},
   "outputs": [
    {
     "data": {
      "image/png": "[encoded data removed]",
      "text/plain": [
       "<Figure size 432x288 with 1 Axes>"
      ]
     },
     "metadata": {
      "needs_background": "light"
     },
     "output_type": "display_data"
    }
   ],
   "source": [
    "plot_score(scores, 1)"
   ]
  },
  {
   "cell_type": "markdown",
   "metadata": {},
   "source": [
    "# Thank you!\n",
    "Check out \n",
    "https://github.com/MichaelBroughton/QABoM.\n",
    "For a baseline version of this code that you can experiment with for yourself."
   ]
  }
 ],
 "metadata": {
  "kernelspec": {
   "display_name": "Python 3",
   "language": "python",
   "name": "python3"
  },
  "language_info": {
   "codemirror_mode": {
    "name": "ipython",
    "version": 3
   },
   "file_extension": ".py",
   "mimetype": "text/x-python",
   "name": "python",
   "nbconvert_exporter": "python",
   "pygments_lexer": "ipython3",
   "version": "3.9.4"
  }
 },
 "nbformat": 4,
 "nbformat_minor": 2
}
