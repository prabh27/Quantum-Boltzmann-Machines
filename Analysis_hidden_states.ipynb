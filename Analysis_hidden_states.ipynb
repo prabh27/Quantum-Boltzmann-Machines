{
 "cells": [
  {
   "cell_type": "markdown",
   "id": "428eaade",
   "metadata": {},
   "source": [
    "# Impact of hidden states on QRBM"
   ]
  },
  {
   "cell_type": "code",
   "execution_count": 421,
   "id": "b8ecdd10",
   "metadata": {
    "scrolled": true
   },
   "outputs": [],
   "source": [
    "import pyquil.api as api\n",
    "from pyquil import Program\n",
    "from qRBM_final import qRBM\n",
    "from pyquil.gates import *\n",
    "from random import *\n",
    "import numpy as np\n",
    "from matplotlib import pyplot as plt\n",
    "from sklearn.metrics import log_loss \n",
    "from sklearn import svm\n",
    "from sklearn.neural_network import BernoulliRBM"
   ]
  },
  {
   "cell_type": "code",
   "execution_count": 246,
   "id": "35895cbf",
   "metadata": {
    "scrolled": true
   },
   "outputs": [],
   "source": [
    "def train_classical(num_epochs=20, num_hidden=2):\n",
    "    model = BernoulliRBM(n_components=num_hidden, n_iter=num_epochs)\n",
    "    model.fit(artificial_data)\n",
    "    return model"
   ]
  },
  {
   "cell_type": "code",
   "execution_count": 247,
   "id": "c0b5cede",
   "metadata": {
    "scrolled": true
   },
   "outputs": [],
   "source": [
    "def train(num_epochs=20, num_hidden=2, gate_noise_probs=None, meas_noise_probs=None, n_quantum_measurements=None):\n",
    "    '''\n",
    "    gate_noise_probs:       PX, PY, PZ gates getting applied to each qubit after every gate application\n",
    "    meas_noise_probs:       PX, PY, PZ gates getting applied to the qubit being measured before it is measured\n",
    "    n_quantum_measurements: None means \"analytical\" measurement to save time on simulation\n",
    "\n",
    "    '''\n",
    "    qvm = api.QVMConnection(gate_noise=gate_noise_probs, measurement_noise=meas_noise_probs)\n",
    "    qr = qRBM(qvm, num_visible=4, num_hidden=num_hidden, n_quantum_measurements=n_quantum_measurements)\n",
    "    qr.train(artificial_data, n_epochs=num_epochs)\n",
    "    return qr, max_prob_list(qr.pred_list)"
   ]
  },
  {
   "cell_type": "code",
   "execution_count": 685,
   "id": "1f48d7ba",
   "metadata": {},
   "outputs": [],
   "source": [
    "def max_prob_list(pred_list):\n",
    "    max_prob_list = []\n",
    "    for epoch_pred in pred_list:\n",
    "        max_prob_list.append(np.max(epoch_pred))\n",
    "    return max_prob_list"
   ]
  },
  {
   "cell_type": "code",
   "execution_count": 588,
   "id": "d410f949",
   "metadata": {
    "scrolled": true
   },
   "outputs": [],
   "source": [
    "def plot_score(score_list, hidden_state):\n",
    "    plt.plot(score_list, marker='o', label=\"Hidden State: \" + str(hidden_state))\n",
    "    # plt.ylim(0, 1)\n",
    "    plt.xlabel('# Epochs')\n",
    "    plt.ylabel('Accuracy')\n",
    "    plt.title('Hidden States: Accuracy vs Epochs') \n",
    "    plt.legend()\n",
    "    plt.ylim(0, 1.1)"
   ]
  },
  {
   "cell_type": "code",
   "execution_count": 251,
   "id": "f1d62cc5",
   "metadata": {
    "scrolled": true
   },
   "outputs": [],
   "source": [
    "def show_probs(qr):\n",
    "    transformed = qr.transform(artificial_data)\n",
    "\n",
    "    comparison = np.stack((transformed, random_coin))\n",
    "\n",
    "    #compare our rbm probabilities with the coin flips.\n",
    "    print('RBM Pr. | Original Coin Value')\n",
    "    # print '-'*20\n",
    "    for i in range(len(transformed)):\n",
    "        print('{: 0.3f}'.format(float(comparison[:,i][0])), ' |', '{: 0.3f}'.format(comparison[:,i][1]))"
   ]
  },
  {
   "cell_type": "code",
   "execution_count": 252,
   "id": "a61b0c6b",
   "metadata": {
    "scrolled": true
   },
   "outputs": [],
   "source": [
    "def plot_prob_lists(prob_list, noise_probs_list, noise_type='gate'):\n",
    "    fig, ax = plt.subplots(figsize=(10,6))\n",
    "    for epoch, prob in enumerate(prob_list):\n",
    "        ax.plot(prob, label=str(noise_probs_list[epoch]), marker=epoch+6)\n",
    "    ax.legend()\n",
    "    ax.set_title('Probabilities for different ' + noise_type + ' noise settings')"
   ]
  },
  {
   "cell_type": "code",
   "execution_count": 253,
   "id": "7b38f24a",
   "metadata": {
    "scrolled": true
   },
   "outputs": [],
   "source": [
    "def evaluate_hidden_states(num_epochs, num_hidden_list, n_quantum_measurements):\n",
    "    prob_list = []\n",
    "    model_list = []\n",
    "    for num_hidden in num_hidden_list:\n",
    "        model, prob = train(num_epochs=num_epochs, \n",
    "                            num_hidden=num_hidden,\n",
    "                            n_quantum_measurements=n_quantum_measurements)\n",
    "        prob_list.append(prob)\n",
    "        model_list.append(model)\n",
    "    return prob_list, model_list"
   ]
  },
  {
   "cell_type": "code",
   "execution_count": 254,
   "id": "976e2ace",
   "metadata": {
    "scrolled": true
   },
   "outputs": [],
   "source": [
    "def evaluate_hidden_states_classical(num_epochs, num_hidden_list):\n",
    "    prob_list = []\n",
    "    model_list = []\n",
    "    for num_hidden in num_hidden_list:\n",
    "        prob = []\n",
    "        for epoch in range(num_epochs):\n",
    "            model = BernoulliRBM(n_components=num_hidden, n_iter=epoch)\n",
    "            model.fit(artificial_data)\n",
    "            prob.append(model.transform(artificial_data))\n",
    "        prob_list.append(prob)\n",
    "        model_list.append(model)\n",
    "    return prob_list, model_list"
   ]
  },
  {
   "cell_type": "code",
   "execution_count": 255,
   "id": "b9bfc4d4",
   "metadata": {
    "scrolled": true
   },
   "outputs": [],
   "source": [
    "def evaluate_noise(num_epochs, n_quantum_measurements, noise_probs_list, noise_type='gate', ):\n",
    "    prob_list = []\n",
    "    model_list = []\n",
    "    for noise_probs in noise_probs_list:\n",
    "        if noise_type == 'gate':\n",
    "            model, prob = train(num_epochs=num_epochs, \n",
    "                                     gate_noise_probs=noise_probs,\n",
    "                                     n_quantum_measurements=n_quantum_measurements)\n",
    "        if noise_type == 'meas':\n",
    "            model, prob = train(num_epochs=num_epochs, \n",
    "                                     meas_noise_probs=noise_probs,\n",
    "                                     n_quantum_measurements=n_quantum_measurements)\n",
    "            \n",
    "        prob_list.append(prob)\n",
    "        model_list.append(model)\n",
    "    return prob_list, model_list"
   ]
  },
  {
   "cell_type": "code",
   "execution_count": 593,
   "id": "45affa1b",
   "metadata": {},
   "outputs": [],
   "source": [
    "def classical_rbm_eval(num_epochs, classical_prob_list, hidden_state):\n",
    "    y = random_coin\n",
    "    scores = []\n",
    "    for epoch in range(num_epochs):\n",
    "        X = classical_prob_list[hidden_state][epoch]\n",
    "        clf = svm.SVC()\n",
    "        clf.fit(X, y)\n",
    "        scores.append(clf.score(X,y))\n",
    "    return scores"
   ]
  },
  {
   "cell_type": "code",
   "execution_count": 575,
   "id": "ffcef887",
   "metadata": {},
   "outputs": [],
   "source": [
    "def quantum_rbm_eval(num_epochs, hidden_model_list, hidden_state):\n",
    "    y = random_coin\n",
    "    scores = []\n",
    "    for epoch in range(num_epochs):\n",
    "        X = hidden_model_list[hidden_state].pred_list[epoch]\n",
    "        clf = svm.SVC()\n",
    "        clf.fit(X, y)\n",
    "        scores.append([clf.score(X,y)])\n",
    "    return scores"
   ]
  },
  {
   "cell_type": "markdown",
   "id": "5a45a80a",
   "metadata": {},
   "source": [
    "## Creating the underlying distribution\n",
    "We flip an unbiased coin to generate a sequence of random bits, this will be the underlying hidden distribution of our data."
   ]
  },
  {
   "cell_type": "code",
   "execution_count": 658,
   "id": "da0bf740",
   "metadata": {
    "scrolled": true
   },
   "outputs": [
    {
     "data": {
      "text/plain": [
       "array([7, 3, 6, 5, 4, 4, 0, 1, 7, 1, 7, 1, 2, 6, 3, 6, 4, 4, 2, 6, 2, 0,\n",
       "       0, 4, 5, 0, 1, 7, 6, 6, 7, 2, 0, 3, 4, 5, 2, 6, 2, 3, 7, 3, 0, 1,\n",
       "       3, 0, 3, 2, 3, 4, 1, 3, 3, 3, 2, 1, 6, 3, 7, 4, 2, 3, 6, 4])"
      ]
     },
     "execution_count": 658,
     "metadata": {},
     "output_type": "execute_result"
    }
   ],
   "source": [
    "#flip a coin\n",
    "np.random.seed(1234)\n",
    "random_coin = np.random.choice(np.arange(0,8), size=20, replace=True)\n",
    "random_coin"
   ]
  },
  {
   "cell_type": "markdown",
   "id": "86ed5a34",
   "metadata": {},
   "source": [
    "## Generating encoded sequences"
   ]
  },
  {
   "cell_type": "code",
   "execution_count": 659,
   "id": "a27d71c1",
   "metadata": {
    "scrolled": true
   },
   "outputs": [
    {
     "data": {
      "text/plain": [
       "(64, 4)"
      ]
     },
     "execution_count": 659,
     "metadata": {},
     "output_type": "execute_result"
    }
   ],
   "source": [
    "#Encode this coin flip in to an artifically high dimensional dataset\n",
    "artificial_data = []\n",
    "for flip in random_coin:\n",
    "    if flip == 0:\n",
    "        artificial_data.append([0,0,0,0])\n",
    "    elif flip == 1:\n",
    "        artificial_data.append([0,0,0,1])\n",
    "    elif flip == 2:\n",
    "        artificial_data.append([0,0,1,0])\n",
    "    elif flip == 3:\n",
    "        artificial_data.append([0,0,1,1])\n",
    "    elif flip == 4:\n",
    "        artificial_data.append([0,1,0,0])\n",
    "    elif flip == 5:\n",
    "        artificial_data.append([0,1,0,1])\n",
    "    elif flip == 6:\n",
    "        artificial_data.append([0,1,1,0])\n",
    "    elif flip == 7:\n",
    "        artificial_data.append([0,1,1,1])\n",
    "    elif flip == 8:\n",
    "        artificial_data.append([1,0,0,0])\n",
    "    elif flip == 9:\n",
    "        artificial_data.append([1,0,0,1])\n",
    "    elif flip == 10:\n",
    "        artificial_data.append([1,0,1,0])\n",
    "    elif flip == 11:\n",
    "        artificial_data.append([1,0,1,1])\n",
    "    elif flip == 12:\n",
    "        artificial_data.append([1,1,0,0])\n",
    "    elif flip == 13:\n",
    "        artificial_data.append([1,1,0,1])\n",
    "    elif flip == 14:\n",
    "        artificial_data.append([1,1,1,0])\n",
    "    else:\n",
    "        artificial_data.append([1,1,1,1])\n",
    "\n",
    "#We know have an artificially high dimensional dataset that still only has the 1 bit coin flip dictating\n",
    "#the underlying distribution\n",
    "artificial_data = np.asarray(artificial_data)\n",
    "artificial_data.shape"
   ]
  },
  {
   "cell_type": "markdown",
   "id": "66704a9e",
   "metadata": {},
   "source": [
    "## Experiment Settings"
   ]
  },
  {
   "cell_type": "code",
   "execution_count": 678,
   "id": "8b1a2915",
   "metadata": {},
   "outputs": [],
   "source": [
    "num_epochs = 5\n",
    "num_hidden_list = [1, 2, 3]"
   ]
  },
  {
   "cell_type": "markdown",
   "id": "f26725bd",
   "metadata": {},
   "source": [
    "### Quantum: Adding hidden states does not help"
   ]
  },
  {
   "cell_type": "code",
   "execution_count": 679,
   "id": "a189378f",
   "metadata": {
    "scrolled": false
   },
   "outputs": [],
   "source": [
    "%%capture\n",
    "hidden_prob_list, hidden_model_list = evaluate_hidden_states(num_epochs=num_epochs, \n",
    "                                                      num_hidden_list=num_hidden_list, \n",
    "                                                      n_quantum_measurements=None,)"
   ]
  },
  {
   "cell_type": "code",
   "execution_count": 681,
   "id": "acc979ae",
   "metadata": {},
   "outputs": [
    {
     "data": {
      "image/png": "[encoded data removed]",
      "text/plain": [
       "<Figure size 432x288 with 1 Axes>"
      ]
     },
     "metadata": {
      "needs_background": "light"
     },
     "output_type": "display_data"
    }
   ],
   "source": [
    "plot_score(quantum_rbm_eval(num_epochs, hidden_model_list, 0), 1)\n",
    "plot_score(quantum_rbm_eval(num_epochs, hidden_model_list, 1), 2)\n",
    "plot_score(quantum_rbm_eval(num_epochs, hidden_model_list, 2), 3)"
   ]
  },
  {
   "cell_type": "markdown",
   "id": "3563b4ee",
   "metadata": {},
   "source": [
    "### Comparison with Classical RBM"
   ]
  },
  {
   "cell_type": "code",
   "execution_count": 682,
   "id": "c5b6cacc",
   "metadata": {
    "scrolled": true
   },
   "outputs": [],
   "source": [
    "classical_prob_list, classical_model_list = evaluate_hidden_states_classical(num_epochs, num_hidden_list)"
   ]
  },
  {
   "cell_type": "code",
   "execution_count": 684,
   "id": "fc7c5f5d",
   "metadata": {},
   "outputs": [
    {
     "data": {
      "image/png": "[encoded data removed]",
      "text/plain": [
       "<Figure size 432x288 with 1 Axes>"
      ]
     },
     "metadata": {
      "needs_background": "light"
     },
     "output_type": "display_data"
    }
   ],
   "source": [
    "plot_score(classical_rbm_eval(num_epochs, classical_prob_list, 0), 1)\n",
    "plot_score(classical_rbm_eval(num_epochs, classical_prob_list, 1), 2)\n",
    "plot_score(classical_rbm_eval(num_epochs, classical_prob_list, 2), 3)"
   ]
  },
  {
   "cell_type": "code",
   "execution_count": null,
   "id": "b270e08b",
   "metadata": {},
   "outputs": [],
   "source": []
  }
 ],
 "metadata": {
  "kernelspec": {
   "display_name": "Python 3",
   "language": "python",
   "name": "python3"
  },
  "language_info": {
   "codemirror_mode": {
    "name": "ipython",
    "version": 3
   },
   "file_extension": ".py",
   "mimetype": "text/x-python",
   "name": "python",
   "nbconvert_exporter": "python",
   "pygments_lexer": "ipython3",
   "version": "3.9.4"
  }
 },
 "nbformat": 4,
 "nbformat_minor": 5
}
