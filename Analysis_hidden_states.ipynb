{
 "cells": [
  {
   "cell_type": "markdown",
   "id": "428eaade",
   "metadata": {},
   "source": [
    "# Impact of hidden states on QRBM"
   ]
  },
  {
   "cell_type": "code",
   "execution_count": 686,
   "id": "b8ecdd10",
   "metadata": {
    "scrolled": true
   },
   "outputs": [],
   "source": [
    "import pyquil.api as api\n",
    "from pyquil import Program\n",
    "from qRBM_final import qRBM\n",
    "from pyquil.gates import *\n",
    "from random import *\n",
    "import numpy as np\n",
    "from matplotlib import pyplot as plt\n",
    "from sklearn.metrics import log_loss \n",
    "from sklearn import svm\n",
    "from sklearn.neural_network import BernoulliRBM"
   ]
  },
  {
   "cell_type": "code",
   "execution_count": 687,
   "id": "60f6787e",
   "metadata": {
    "scrolled": true
   },
   "outputs": [],
   "source": [
    "def train_classical(num_epochs=20, num_hidden=2):\n",
    "    model = BernoulliRBM(n_components=num_hidden, n_iter=num_epochs)\n",
    "    model.fit(artificial_data)\n",
    "    return model"
   ]
  },
  {
   "cell_type": "code",
   "execution_count": 688,
   "id": "c0b5cede",
   "metadata": {
    "scrolled": true
   },
   "outputs": [],
   "source": [
    "def train(num_epochs=20, num_hidden=2, gate_noise_probs=None, meas_noise_probs=None, n_quantum_measurements=None):\n",
    "    '''\n",
    "    gate_noise_probs:       PX, PY, PZ gates getting applied to each qubit after every gate application\n",
    "    meas_noise_probs:       PX, PY, PZ gates getting applied to the qubit being measured before it is measured\n",
    "    n_quantum_measurements: None means \"analytical\" measurement to save time on simulation\n",
    "\n",
    "    '''\n",
    "    qvm = api.QVMConnection(gate_noise=gate_noise_probs, measurement_noise=meas_noise_probs)\n",
    "    qr = qRBM(qvm, num_visible=4, num_hidden=num_hidden, n_quantum_measurements=n_quantum_measurements)\n",
    "    qr.train(artificial_data, n_epochs=num_epochs)\n",
    "    return qr, max_prob_list(qr.pred_list)"
   ]
  },
  {
   "cell_type": "code",
   "execution_count": 689,
   "id": "39868f24",
   "metadata": {},
   "outputs": [],
   "source": [
    "def max_prob_list(pred_list):\n",
    "    max_prob_list = []\n",
    "    for epoch_pred in pred_list:\n",
    "        max_prob_list.append(np.max(epoch_pred))\n",
    "    return max_prob_list"
   ]
  },
  {
   "cell_type": "code",
   "execution_count": 690,
   "id": "d855a7df",
   "metadata": {
    "scrolled": true
   },
   "outputs": [],
   "source": [
    "def plot_score(score_list, hidden_state):\n",
    "    plt.plot(score_list, marker='o', label=\"Hidden State: \" + str(hidden_state))\n",
    "    # plt.ylim(0, 1)\n",
    "    plt.xlabel('# Epochs')\n",
    "    plt.ylabel('Accuracy')\n",
    "    plt.title('Hidden States: Accuracy vs Epochs') \n",
    "    plt.legend()\n",
    "    plt.ylim(0, 1.1)"
   ]
  },
  {
   "cell_type": "code",
   "execution_count": 691,
   "id": "29e1de48",
   "metadata": {
    "scrolled": true
   },
   "outputs": [],
   "source": [
    "def evaluate_hidden_states(num_epochs, num_hidden_list, n_quantum_measurements):\n",
    "    prob_list = []\n",
    "    model_list = []\n",
    "    for num_hidden in num_hidden_list:\n",
    "        model, prob = train(num_epochs=num_epochs, \n",
    "                            num_hidden=num_hidden,\n",
    "                            n_quantum_measurements=n_quantum_measurements)\n",
    "        prob_list.append(prob)\n",
    "        model_list.append(model)\n",
    "    return prob_list, model_list"
   ]
  },
  {
   "cell_type": "code",
   "execution_count": 692,
   "id": "2824609f",
   "metadata": {
    "scrolled": true
   },
   "outputs": [],
   "source": [
    "def evaluate_hidden_states_classical(num_epochs, num_hidden_list):\n",
    "    prob_list = []\n",
    "    model_list = []\n",
    "    for num_hidden in num_hidden_list:\n",
    "        prob = []\n",
    "        for epoch in range(num_epochs):\n",
    "            model = BernoulliRBM(n_components=num_hidden, n_iter=epoch)\n",
    "            model.fit(artificial_data)\n",
    "            prob.append(model.transform(artificial_data))\n",
    "        prob_list.append(prob)\n",
    "        model_list.append(model)\n",
    "    return prob_list, model_list"
   ]
  },
  {
   "cell_type": "code",
   "execution_count": 693,
   "id": "1da516c7",
   "metadata": {},
   "outputs": [],
   "source": [
    "def classical_rbm_eval(num_epochs, classical_prob_list, hidden_state):\n",
    "    y = random_coin\n",
    "    scores = []\n",
    "    for epoch in range(num_epochs):\n",
    "        X = classical_prob_list[hidden_state][epoch]\n",
    "        clf = svm.SVC()\n",
    "        clf.fit(X, y)\n",
    "        scores.append(clf.score(X,y))\n",
    "    return scores"
   ]
  },
  {
   "cell_type": "code",
   "execution_count": 694,
   "id": "fb563863",
   "metadata": {},
   "outputs": [],
   "source": [
    "def quantum_rbm_eval(num_epochs, hidden_model_list, hidden_state):\n",
    "    y = random_coin\n",
    "    scores = []\n",
    "    for epoch in range(num_epochs):\n",
    "        X = hidden_model_list[hidden_state].pred_list[epoch]\n",
    "        clf = svm.SVC()\n",
    "        clf.fit(X, y)\n",
    "        scores.append([clf.score(X,y)])\n",
    "    return scores"
   ]
  },
  {
   "cell_type": "markdown",
   "id": "5a45a80a",
   "metadata": {},
   "source": [
    "## Creating the underlying distribution\n",
    "We flip an unbiased coin to generate a sequence of random bits, this will be the underlying hidden distribution of our data."
   ]
  },
  {
   "cell_type": "code",
   "execution_count": 715,
   "id": "da0bf740",
   "metadata": {
    "scrolled": true
   },
   "outputs": [
    {
     "data": {
      "text/plain": [
       "array([7, 3, 6, 5, 4, 4, 0, 1, 7, 1, 7, 1, 2, 6, 3, 6, 4, 4, 2, 6, 2, 0,\n",
       "       0, 4, 5, 0, 1, 7, 6, 6, 7, 2, 0, 3, 4, 5, 2, 6, 2, 3, 7, 3, 0, 1,\n",
       "       3, 0, 3, 2, 3, 4, 1, 3, 3, 3, 2, 1, 6, 3, 7, 4, 2, 3, 6, 4, 1, 7,\n",
       "       5, 4, 0, 4, 5, 5, 1, 7, 5, 7, 1, 4, 1, 4, 5, 0, 1, 0, 0, 4, 6, 0,\n",
       "       6, 4, 2, 3, 7, 1, 2, 5, 6, 2, 5, 5, 6, 7, 4, 3, 5, 6, 7, 6, 4, 6,\n",
       "       7, 7, 2, 2, 4, 4, 2, 7, 1, 7, 3, 6, 7, 2, 1, 6, 7, 4, 1, 0, 1, 2,\n",
       "       1, 2, 1, 2, 1, 1, 5, 7, 4, 7, 7, 1, 2, 4, 0, 5, 4, 1])"
      ]
     },
     "execution_count": 715,
     "metadata": {},
     "output_type": "execute_result"
    }
   ],
   "source": [
    "#flip a coin\n",
    "np.random.seed(1234)\n",
    "random_coin = np.random.choice(np.arange(0,8), size=150, replace=True)\n",
    "random_coin"
   ]
  },
  {
   "cell_type": "markdown",
   "id": "86ed5a34",
   "metadata": {},
   "source": [
    "## Generating encoded sequences"
   ]
  },
  {
   "cell_type": "code",
   "execution_count": 716,
   "id": "a27d71c1",
   "metadata": {
    "scrolled": true
   },
   "outputs": [
    {
     "data": {
      "text/plain": [
       "(150, 4)"
      ]
     },
     "execution_count": 716,
     "metadata": {},
     "output_type": "execute_result"
    }
   ],
   "source": [
    "#Encode this coin flip in to an artifically high dimensional dataset\n",
    "artificial_data = []\n",
    "for flip in random_coin:\n",
    "    if flip == 0:\n",
    "        artificial_data.append([0,0,0,0])\n",
    "    elif flip == 1:\n",
    "        artificial_data.append([0,0,0,1])\n",
    "    elif flip == 2:\n",
    "        artificial_data.append([0,0,1,0])\n",
    "    elif flip == 3:\n",
    "        artificial_data.append([0,0,1,1])\n",
    "    elif flip == 4:\n",
    "        artificial_data.append([0,1,0,0])\n",
    "    elif flip == 5:\n",
    "        artificial_data.append([0,1,0,1])\n",
    "    elif flip == 6:\n",
    "        artificial_data.append([0,1,1,0])\n",
    "    elif flip == 7:\n",
    "        artificial_data.append([0,1,1,1])\n",
    "    elif flip == 8:\n",
    "        artificial_data.append([1,0,0,0])\n",
    "    elif flip == 9:\n",
    "        artificial_data.append([1,0,0,1])\n",
    "    elif flip == 10:\n",
    "        artificial_data.append([1,0,1,0])\n",
    "    elif flip == 11:\n",
    "        artificial_data.append([1,0,1,1])\n",
    "    elif flip == 12:\n",
    "        artificial_data.append([1,1,0,0])\n",
    "    elif flip == 13:\n",
    "        artificial_data.append([1,1,0,1])\n",
    "    elif flip == 14:\n",
    "        artificial_data.append([1,1,1,0])\n",
    "    else:\n",
    "        artificial_data.append([1,1,1,1])\n",
    "\n",
    "#We know have an artificially high dimensional dataset that still only has the 1 bit coin flip dictating\n",
    "#the underlying distribution\n",
    "artificial_data = np.asarray(artificial_data)\n",
    "artificial_data.shape"
   ]
  },
  {
   "cell_type": "markdown",
   "id": "32b696fe",
   "metadata": {},
   "source": [
    "## Experiment Settings"
   ]
  },
  {
   "cell_type": "code",
   "execution_count": 717,
   "id": "914a10b8",
   "metadata": {},
   "outputs": [],
   "source": [
    "num_epochs = 5\n",
    "num_hidden_list = [1, 2, 3]"
   ]
  },
  {
   "cell_type": "markdown",
   "id": "f26725bd",
   "metadata": {},
   "source": [
    "### Quantum: Adding hidden states does not help"
   ]
  },
  {
   "cell_type": "code",
   "execution_count": 730,
   "id": "86acf947",
   "metadata": {
    "scrolled": true
   },
   "outputs": [],
   "source": [
    "%%capture\n",
    "hidden_prob_list, hidden_model_list = evaluate_hidden_states(num_epochs=num_epochs, \n",
    "                                                      num_hidden_list=num_hidden_list, \n",
    "                                                      n_quantum_measurements=None,)"
   ]
  },
  {
   "cell_type": "code",
   "execution_count": 731,
   "id": "b90a077d",
   "metadata": {
    "scrolled": true
   },
   "outputs": [
    {
     "data": {
      "image/png": "[encoded data removed]",
      "text/plain": [
       "<Figure size 432x288 with 1 Axes>"
      ]
     },
     "metadata": {
      "needs_background": "light"
     },
     "output_type": "display_data"
    }
   ],
   "source": [
    "plot_score(quantum_rbm_eval(num_epochs, hidden_model_list, 0), 1)\n",
    "plot_score(quantum_rbm_eval(num_epochs, hidden_model_list, 1), 2)\n",
    "plot_score(quantum_rbm_eval(num_epochs, hidden_model_list, 2), 3)"
   ]
  },
  {
   "cell_type": "markdown",
   "id": "3563b4ee",
   "metadata": {},
   "source": [
    "### Comparison with Classical RBM"
   ]
  },
  {
   "cell_type": "code",
   "execution_count": 724,
   "id": "0bb7ca29",
   "metadata": {
    "scrolled": true
   },
   "outputs": [],
   "source": [
    "classical_prob_list, classical_model_list = evaluate_hidden_states_classical(num_epochs, num_hidden_list)"
   ]
  },
  {
   "cell_type": "code",
   "execution_count": 725,
   "id": "5e596e2c",
   "metadata": {},
   "outputs": [
    {
     "data": {
      "image/png": "[encoded data removed]",
      "text/plain": [
       "<Figure size 432x288 with 1 Axes>"
      ]
     },
     "metadata": {
      "needs_background": "light"
     },
     "output_type": "display_data"
    }
   ],
   "source": [
    "plot_score(classical_rbm_eval(num_epochs, classical_prob_list, 0), 1)\n",
    "plot_score(classical_rbm_eval(num_epochs, classical_prob_list, 1), 2)\n",
    "plot_score(classical_rbm_eval(num_epochs, classical_prob_list, 2), 3)"
   ]
  },
  {
   "cell_type": "code",
   "execution_count": null,
   "id": "c67d5a80",
   "metadata": {},
   "outputs": [],
   "source": []
  }
 ],
 "metadata": {
  "kernelspec": {
   "display_name": "Python 3",
   "language": "python",
   "name": "python3"
  },
  "language_info": {
   "codemirror_mode": {
    "name": "ipython",
    "version": 3
   },
   "file_extension": ".py",
   "mimetype": "text/x-python",
   "name": "python",
   "nbconvert_exporter": "python",
   "pygments_lexer": "ipython3",
   "version": "3.9.4"
  }
 },
 "nbformat": 4,
 "nbformat_minor": 5
}
