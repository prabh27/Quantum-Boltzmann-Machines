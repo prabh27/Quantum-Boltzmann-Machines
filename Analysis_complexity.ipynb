{
 "cells": [
  {
   "cell_type": "code",
   "execution_count": 28,
   "id": "55531caf",
   "metadata": {},
   "outputs": [],
   "source": [
    "import pyquil.api as api\n",
    "from pyquil import Program\n",
    "from qRBM_final import qRBM\n",
    "from pyquil.gates import *\n",
    "from random import *\n",
    "import numpy as np\n",
    "from matplotlib import pyplot as plt\n",
    "from sklearn.metrics import log_loss \n",
    "from sklearn import svm\n",
    "from sklearn.neural_network import BernoulliRBM\n",
    "from datetime import datetime"
   ]
  },
  {
   "cell_type": "code",
   "execution_count": 29,
   "id": "fb3db0ef",
   "metadata": {},
   "outputs": [],
   "source": [
    "def train_classical(num_epochs=20, num_hidden=2):\n",
    "    model = BernoulliRBM(n_components=num_hidden, n_iter=num_epochs)\n",
    "    model.fit(artificial_data)\n",
    "    return model"
   ]
  },
  {
   "cell_type": "code",
   "execution_count": 30,
   "id": "e4143ec2",
   "metadata": {},
   "outputs": [],
   "source": [
    "def train(num_epochs=20, num_hidden=2, gate_noise_probs=None, meas_noise_probs=None, n_quantum_measurements=None):\n",
    "    '''\n",
    "    gate_noise_probs:       PX, PY, PZ gates getting applied to each qubit after every gate application\n",
    "    meas_noise_probs:       PX, PY, PZ gates getting applied to the qubit being measured before it is measured\n",
    "    n_quantum_measurements: None means \"analytical\" measurement to save time on simulation\n",
    "\n",
    "    '''\n",
    "    qvm = api.QVMConnection(gate_noise=gate_noise_probs, measurement_noise=meas_noise_probs)\n",
    "    qr = qRBM(qvm, num_visible=4, num_hidden=num_hidden, n_quantum_measurements=n_quantum_measurements)\n",
    "    qr.train(artificial_data, n_epochs=num_epochs)\n",
    "    return qr, max_prob_list(qr.pred_list)"
   ]
  },
  {
   "cell_type": "code",
   "execution_count": 31,
   "id": "85cab275",
   "metadata": {},
   "outputs": [],
   "source": [
    "def max_prob_list(pred_list):\n",
    "    max_prob_list = []\n",
    "    for epoch_pred in pred_list:\n",
    "        max_prob_list.append(np.max(epoch_pred))\n",
    "    return max_prob_list"
   ]
  },
  {
   "cell_type": "code",
   "execution_count": 32,
   "id": "2d4c8035",
   "metadata": {},
   "outputs": [],
   "source": [
    "def plot_score(score_list, hidden_state):\n",
    "    plt.plot(score_list, marker='o', label=\"Hidden State: \" + str(hidden_state))\n",
    "    # plt.ylim(0, 1)\n",
    "    plt.xlabel('# Epochs')\n",
    "    plt.ylabel('Accuracy')\n",
    "    plt.title('Hidden States: Accuracy vs Epochs') \n",
    "    plt.legend()\n",
    "    plt.ylim(0, 1.1)"
   ]
  },
  {
   "cell_type": "code",
   "execution_count": 36,
   "id": "7b8cd98c",
   "metadata": {},
   "outputs": [],
   "source": [
    "def evaluate_hidden_states(num_epochs, num_hidden_list, n_quantum_measurements):\n",
    "    prob_list = []\n",
    "    model_list = []\n",
    "    time_list = []\n",
    "    for num_hidden in num_hidden_list:\n",
    "        time1 = datetime.now()\n",
    "        model, prob = train(num_epochs=num_epochs, \n",
    "                            num_hidden=num_hidden,\n",
    "                            n_quantum_measurements=n_quantum_measurements)\n",
    "        time2 = datetime.now()\n",
    "        time_list.append((time2 - time1).total_seconds())\n",
    "        prob_list.append(prob)\n",
    "        model_list.append(model)\n",
    "    return time_list, prob_list, model_list"
   ]
  },
  {
   "cell_type": "code",
   "execution_count": 37,
   "id": "ffee73f2",
   "metadata": {},
   "outputs": [],
   "source": [
    "def evaluate_hidden_states_classical(num_epochs, num_hidden_list):\n",
    "    prob_list = []\n",
    "    model_list = []\n",
    "    time_list = []\n",
    "    for num_hidden in num_hidden_list:\n",
    "        time1 = datetime.now()\n",
    "        model = BernoulliRBM(n_components=num_hidden, n_iter=num_epochs)\n",
    "        model.fit(artificial_data)\n",
    "        time2 = datetime.now()\n",
    "        time_list.append((time2 - time1).total_seconds())\n",
    "        prob = model.transform(artificial_data)\n",
    "        prob_list.append(prob)\n",
    "        model_list.append(model)\n",
    "    return time_list, prob_list, model_list"
   ]
  },
  {
   "cell_type": "code",
   "execution_count": 38,
   "id": "afc64890",
   "metadata": {},
   "outputs": [],
   "source": [
    "def classical_rbm_eval(num_epochs, classical_prob_list, hidden_state):\n",
    "    y = random_coin\n",
    "    scores = []\n",
    "    for epoch in range(num_epochs):\n",
    "        X = classical_prob_list[hidden_state][epoch]\n",
    "        clf = svm.SVC()\n",
    "        clf.fit(X, y)\n",
    "        scores.append(clf.score(X,y))\n",
    "    return scores"
   ]
  },
  {
   "cell_type": "code",
   "execution_count": 39,
   "id": "202375f5",
   "metadata": {},
   "outputs": [],
   "source": [
    "def quantum_rbm_eval(num_epochs, hidden_model_list, hidden_state):\n",
    "    y = random_coin\n",
    "    scores = []\n",
    "    for epoch in range(num_epochs):\n",
    "        X = hidden_model_list[hidden_state].pred_list[epoch]\n",
    "        clf = svm.SVC()\n",
    "        clf.fit(X, y)\n",
    "        scores.append([clf.score(X,y)])\n",
    "    return scores"
   ]
  },
  {
   "cell_type": "markdown",
   "id": "aa9552ad",
   "metadata": {},
   "source": [
    "## Creating the underlying distribution\n",
    "We flip an unbiased coin to generate a sequence of random bits, this will be the underlying hidden distribution of our data."
   ]
  },
  {
   "cell_type": "code",
   "execution_count": 40,
   "id": "4a812545",
   "metadata": {},
   "outputs": [
    {
     "data": {
      "text/plain": [
       "array([7, 3, 6, 5, 4, 4, 0, 1, 7, 1, 7, 1, 2, 6, 3, 6, 4, 4, 2, 6, 2, 0,\n",
       "       0, 4, 5, 0, 1, 7, 6, 6, 7, 2, 0, 3, 4, 5, 2, 6, 2, 3, 7, 3, 0, 1,\n",
       "       3, 0, 3, 2, 3, 4, 1, 3, 3, 3, 2, 1, 6, 3, 7, 4, 2, 3, 6, 4, 1, 7,\n",
       "       5, 4, 0, 4, 5, 5, 1, 7, 5, 7, 1, 4, 1, 4, 5, 0, 1, 0, 0, 4, 6, 0,\n",
       "       6, 4, 2, 3, 7, 1, 2, 5, 6, 2, 5, 5, 6, 7, 4, 3, 5, 6, 7, 6, 4, 6,\n",
       "       7, 7, 2, 2, 4, 4, 2, 7, 1, 7, 3, 6, 7, 2, 1, 6, 7, 4, 1, 0, 1, 2,\n",
       "       1, 2, 1, 2, 1, 1, 5, 7, 4, 7, 7, 1, 2, 4, 0, 5, 4, 1])"
      ]
     },
     "execution_count": 40,
     "metadata": {},
     "output_type": "execute_result"
    }
   ],
   "source": [
    "#flip a coin\n",
    "np.random.seed(1234)\n",
    "random_coin = np.random.choice(np.arange(0,8), size=150, replace=True)\n",
    "random_coin"
   ]
  },
  {
   "cell_type": "markdown",
   "id": "3af33260",
   "metadata": {},
   "source": [
    "## Generating encoded sequences"
   ]
  },
  {
   "cell_type": "code",
   "execution_count": 41,
   "id": "9e420e58",
   "metadata": {},
   "outputs": [
    {
     "data": {
      "text/plain": [
       "(150, 4)"
      ]
     },
     "execution_count": 41,
     "metadata": {},
     "output_type": "execute_result"
    }
   ],
   "source": [
    "#Encode this coin flip in to an artifically high dimensional dataset\n",
    "artificial_data = []\n",
    "for flip in random_coin:\n",
    "    if flip == 0:\n",
    "        artificial_data.append([0,0,0,0])\n",
    "    elif flip == 1:\n",
    "        artificial_data.append([0,0,0,1])\n",
    "    elif flip == 2:\n",
    "        artificial_data.append([0,0,1,0])\n",
    "    elif flip == 3:\n",
    "        artificial_data.append([0,0,1,1])\n",
    "    elif flip == 4:\n",
    "        artificial_data.append([0,1,0,0])\n",
    "    elif flip == 5:\n",
    "        artificial_data.append([0,1,0,1])\n",
    "    elif flip == 6:\n",
    "        artificial_data.append([0,1,1,0])\n",
    "    elif flip == 7:\n",
    "        artificial_data.append([0,1,1,1])\n",
    "    elif flip == 8:\n",
    "        artificial_data.append([1,0,0,0])\n",
    "    elif flip == 9:\n",
    "        artificial_data.append([1,0,0,1])\n",
    "    elif flip == 10:\n",
    "        artificial_data.append([1,0,1,0])\n",
    "    elif flip == 11:\n",
    "        artificial_data.append([1,0,1,1])\n",
    "    elif flip == 12:\n",
    "        artificial_data.append([1,1,0,0])\n",
    "    elif flip == 13:\n",
    "        artificial_data.append([1,1,0,1])\n",
    "    elif flip == 14:\n",
    "        artificial_data.append([1,1,1,0])\n",
    "    else:\n",
    "        artificial_data.append([1,1,1,1])\n",
    "\n",
    "#We know have an artificially high dimensional dataset that still only has the 1 bit coin flip dictating\n",
    "#the underlying distribution\n",
    "artificial_data = np.asarray(artificial_data)\n",
    "artificial_data.shape"
   ]
  },
  {
   "cell_type": "markdown",
   "id": "c6e08d12",
   "metadata": {},
   "source": [
    "## Experiment Settings"
   ]
  },
  {
   "cell_type": "code",
   "execution_count": 54,
   "id": "38114a4f",
   "metadata": {},
   "outputs": [],
   "source": [
    "num_epochs = 5\n",
    "num_hidden_list = [1, 2, 3, 4, 5]"
   ]
  },
  {
   "cell_type": "code",
   "execution_count": 55,
   "id": "f27e41cc",
   "metadata": {},
   "outputs": [],
   "source": [
    "%%capture\n",
    "q_time_list, hidden_prob_list, hidden_model_list = evaluate_hidden_states(num_epochs=num_epochs, \n",
    "                                                      num_hidden_list=num_hidden_list, \n",
    "                                                      n_quantum_measurements=None,)"
   ]
  },
  {
   "cell_type": "code",
   "execution_count": 56,
   "id": "ed94842e",
   "metadata": {},
   "outputs": [],
   "source": [
    "c_time_list, classical_prob_list, classical_model_list = evaluate_hidden_states_classical(num_epochs, \n",
    "                                                                                          num_hidden_list)"
   ]
  },
  {
   "cell_type": "code",
   "execution_count": null,
   "id": "faeeb576",
   "metadata": {},
   "outputs": [],
   "source": []
  },
  {
   "cell_type": "code",
   "execution_count": 62,
   "id": "7fb48e77",
   "metadata": {},
   "outputs": [
    {
     "data": {
      "text/plain": [
       "Text(0.5, 1.0, 'Hidden States time complexity analysis')"
      ]
     },
     "execution_count": 62,
     "metadata": {},
     "output_type": "execute_result"
    },
    {
     "data": {
      "image/png": "[encoded data removed]",
      "text/plain": [
       "<Figure size 432x288 with 1 Axes>"
      ]
     },
     "metadata": {
      "needs_background": "light"
     },
     "output_type": "display_data"
    }
   ],
   "source": [
    "plt.plot(q_time_list, label='quantum', marker='o')\n",
    "plt.plot(c_time_list, label='classical', marker='d')\n",
    "plt.legend()\n",
    "plt.xlabel('# Hidden States')\n",
    "plt.ylabel('time in seconds')\n",
    "plt.title('Hidden States time complexity analysis')"
   ]
  },
  {
   "cell_type": "code",
   "execution_count": null,
   "id": "9373aca2",
   "metadata": {},
   "outputs": [],
   "source": []
  }
 ],
 "metadata": {
  "kernelspec": {
   "display_name": "Python 3",
   "language": "python",
   "name": "python3"
  },
  "language_info": {
   "codemirror_mode": {
    "name": "ipython",
    "version": 3
   },
   "file_extension": ".py",
   "mimetype": "text/x-python",
   "name": "python",
   "nbconvert_exporter": "python",
   "pygments_lexer": "ipython3",
   "version": "3.9.4"
  }
 },
 "nbformat": 4,
 "nbformat_minor": 5
}
